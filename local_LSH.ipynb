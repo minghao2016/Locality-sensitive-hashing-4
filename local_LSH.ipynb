{
 "cells": [
  {
   "cell_type": "code",
   "execution_count": 6,
   "metadata": {
    "collapsed": true
   },
   "outputs": [],
   "source": [
    "import os\n",
    "import re\n",
    "import string\n",
    "import time\n",
    "from itertools import combinations\n",
    "import random"
   ]
  },
  {
   "cell_type": "code",
   "execution_count": 2,
   "metadata": {
    "collapsed": true
   },
   "outputs": [],
   "source": [
    "def n_shingle_set(word_list, shingle_n):\n",
    "    # input: a list of string for text\n",
    "    # output: a set of ngram extracted from the text\n",
    "    shingle_list = ['#'.join(word_list[i:i+shingle_n])\n",
    "                    for i in range(len(word_list)-shingle_n+1)]\n",
    "    return set(shingle_list)"
   ]
  },
  {
   "cell_type": "code",
   "execution_count": 3,
   "metadata": {
    "collapsed": true
   },
   "outputs": [],
   "source": [
    "def replace_nonword(text):\n",
    "    # replace both punctuation and non-ASCII characters\n",
    "    # return filter(lambda x:x not in string.punctuation, text)\n",
    "    return re.sub(r'[^\\x00-\\x7F]','',\n",
    "                  filter(lambda x:x not in string.punctuation, text))"
   ]
  },
  {
   "cell_type": "code",
   "execution_count": 8,
   "metadata": {
    "collapsed": true
   },
   "outputs": [],
   "source": [
    "def seed_gen(n_hashes):\n",
    "    return [random.randint(0, 2**32-1) for _ in range(n_hashes)]"
   ]
  },
  {
   "cell_type": "code",
   "execution_count": 23,
   "metadata": {
    "collapsed": false
   },
   "outputs": [],
   "source": [
    "def min_hash(shingle_set, seed_list):\n",
    "    init_hash = [hash(x) for x in shingle_set]\n",
    "    out_put_list = range(len(seed_list))\n",
    "    for i in range(len(seed_list)):\n",
    "        out_put_list[i] = min([ele^seed_list[i] for ele in init_hash])\n",
    "        \n",
    "    return out_put_list"
   ]
  },
  {
   "cell_type": "code",
   "execution_count": 20,
   "metadata": {
    "collapsed": true
   },
   "outputs": [],
   "source": [
    "def jaccard_sim(set1, set2):\n",
    "    intx = len(set1&set2)\n",
    "    return intx / float(len(set1) + len(set2) - intx)"
   ]
  },
  {
   "cell_type": "code",
   "execution_count": 19,
   "metadata": {
    "collapsed": true
   },
   "outputs": [],
   "source": [
    "def file_to_shingle_list(path, shingle_n):\n",
    "    # input: file directory\n",
    "    # output: a list of tuples of (file_name, feature_vector)\n",
    "    file_shingle_dict = {}\n",
    "    for file_name in os.listdir(path):\n",
    "        with open(os.path.join(path, file_name), 'r') as f:\n",
    "            text = replace_nonword(f.read().lower())\n",
    "            # print text[:20]\n",
    "            word_list = re.split(\"[ \\n]+\", text)\n",
    "            file_shingle_dict[file_name.replace('.txt','')] = \\\n",
    "                n_shingle_set(word_list, shingle_n)\n",
    "    return file_shingle_dict"
   ]
  },
  {
   "cell_type": "code",
   "execution_count": 74,
   "metadata": {
    "collapsed": true
   },
   "outputs": [],
   "source": [
    "path = 'corpus-20090418'\n",
    "shingle_n = 8\n",
    "# start_time = time.time()\n",
    "file_shingle_dict = file_to_shingle_list(path, shingle_n)"
   ]
  },
  {
   "cell_type": "code",
   "execution_count": 75,
   "metadata": {
    "collapsed": true
   },
   "outputs": [],
   "source": [
    "random.seed(0)\n",
    "hash_number = 50\n",
    "seed_list = seed_gen(hash_number)"
   ]
  },
  {
   "cell_type": "code",
   "execution_count": 76,
   "metadata": {
    "collapsed": false
   },
   "outputs": [],
   "source": [
    "file_minhash_dict = {k:min_hash(v, seed_list) for k,v in file_shingle_dict.items()}"
   ]
  },
  {
   "cell_type": "code",
   "execution_count": 77,
   "metadata": {
    "collapsed": true
   },
   "outputs": [],
   "source": [
    "outlist = map(lambda x: (x[0],x[1], \"%0.5f\" %\n",
    "                         jaccard_sim(\n",
    "                             set(file_minhash_dict[x[0]]),\n",
    "                             set(file_minhash_dict[x[1]])\n",
    "                         )),\n",
    "              combinations(file_minhash_dict.keys(), 2))\n",
    "outlist.sort(key=lambda line: line[2], reverse=True)\n",
    "# print(\"--- %s seconds ---\" % (time.time() - start_time))"
   ]
  },
  {
   "cell_type": "code",
   "execution_count": 78,
   "metadata": {
    "collapsed": true
   },
   "outputs": [],
   "source": [
    "with open('j_sim_local_hash%d.csv' % hash_number, 'a') as fw:\n",
    "    for line in [','.join(ele) for ele in outlist]:\n",
    "        fw.write(line+'\\n')"
   ]
  },
  {
   "cell_type": "code",
   "execution_count": 51,
   "metadata": {
    "collapsed": true
   },
   "outputs": [],
   "source": [
    "def hash_band(hash_list, band_assignment):\n",
    "    return [set([hash_list[j] for j in band_assignment[i]]) for i in range(len(band_assignment))]"
   ]
  },
  {
   "cell_type": "code",
   "execution_count": 55,
   "metadata": {
    "collapsed": true
   },
   "outputs": [],
   "source": [
    "def count_band(list1,list2):\n",
    "    return sum([list1[i]==list2[i] for i in range(len(list1))])"
   ]
  },
  {
   "cell_type": "code",
   "execution_count": 79,
   "metadata": {
    "collapsed": false
   },
   "outputs": [],
   "source": [
    "n_bands = 10\n",
    "r=hash_number/n_bands\n",
    "band_assignment = [[i for i in range(hash_number) if i % n_bands == j] for j in range(n_bands)]"
   ]
  },
  {
   "cell_type": "code",
   "execution_count": 80,
   "metadata": {
    "collapsed": false
   },
   "outputs": [],
   "source": [
    "file_hashband_dict = {k:hash_band(v, band_assignment) for k,v in file_minhash_dict.items()}"
   ]
  },
  {
   "cell_type": "code",
   "execution_count": 81,
   "metadata": {
    "collapsed": false
   },
   "outputs": [],
   "source": [
    "cand_pair = map(lambda x: (x[0],x[1], \"%d\" %\n",
    "                         count_band(\n",
    "                             file_hashband_dict[x[0]],\n",
    "                             file_hashband_dict[x[1]]\n",
    "                         )),\n",
    "              combinations(file_minhash_dict.keys(), 2))\n",
    "cand_pair.sort(key=lambda line: line[2], reverse=True)"
   ]
  },
  {
   "cell_type": "code",
   "execution_count": 82,
   "metadata": {
    "collapsed": true
   },
   "outputs": [],
   "source": [
    "with open('cand_pair_local_band%d.csv' % n_bands, 'a') as fw:\n",
    "    for line in [','.join(ele) for ele in cand_pair]:\n",
    "        fw.write(line+'\\n')"
   ]
  }
 ],
 "metadata": {
  "kernelspec": {
   "display_name": "Python 2",
   "language": "python",
   "name": "python2"
  },
  "language_info": {
   "codemirror_mode": {
    "name": "ipython",
    "version": 2
   },
   "file_extension": ".py",
   "mimetype": "text/x-python",
   "name": "python",
   "nbconvert_exporter": "python",
   "pygments_lexer": "ipython2",
   "version": "2.7.10"
  }
 },
 "nbformat": 4,
 "nbformat_minor": 0
}
