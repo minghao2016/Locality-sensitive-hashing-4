{
 "cells": [
  {
   "cell_type": "markdown",
   "metadata": {},
   "source": [
    "# Convert file to shingles for loading into hive"
   ]
  },
  {
   "cell_type": "code",
   "execution_count": 1,
   "metadata": {
    "collapsed": true
   },
   "outputs": [],
   "source": [
    "import re\n",
    "import os\n",
    "import string"
   ]
  },
  {
   "cell_type": "code",
   "execution_count": 2,
   "metadata": {
    "collapsed": true
   },
   "outputs": [],
   "source": [
    "def to_shingle(word_list, n):\n",
    "    return [' '.join(word_list[i:i+n]) for i in range(len(word_list)-n+1)]"
   ]
  },
  {
   "cell_type": "code",
   "execution_count": 9,
   "metadata": {
    "collapsed": true
   },
   "outputs": [],
   "source": [
    "n_shingle = 8\n",
    "prefix = r'C:\\data\\pan-plagiarism-corpus-2011\\pan-plagiarism-corpus-2011\\intrinsic-detection-corpus-txt'\n",
    "tr_prefix = r'C:\\data\\pan-plagiarism-corpus-2011\\pan-plagiarism-corpus-2011\\intrinsic-detection-hive-%d-shingle' % n_shingle"
   ]
  },
  {
   "cell_type": "code",
   "execution_count": 7,
   "metadata": {
    "collapsed": true
   },
   "outputs": [],
   "source": [
    "f_names = os.listdir(prefix)"
   ]
  },
  {
   "cell_type": "code",
   "execution_count": 10,
   "metadata": {
    "collapsed": false
   },
   "outputs": [],
   "source": [
    "# text to shingle table\n",
    "for f_name in f_names:\n",
    "    with open(os.path.join(prefix, f_name),'r') as fr:\n",
    "        txt_cache = ''\n",
    "        for line in fr:\n",
    "            txt_cache += line\n",
    "    txt_cache = re.sub(r'[^\\x00-\\x7F]','', filter(lambda x:x not in string.punctuation, txt_cache))\n",
    "    \n",
    "    word_list = [word.strip().lower() for word in re.split(' |\\n',txt_cache) if word!='']\n",
    "    shingle_list = to_shingle(word_list, n_shingle)\n",
    "#     f_id = f_name.replace('.txt','')\n",
    "    f_id = f_name.replace('suspicious-document','sps_').replace('.txt','')\n",
    "    \n",
    "    tr_txt='\\n'.join([','.join([f_id, shingle]) for shingle in shingle_list])\n",
    "    \n",
    "#     with open(os.path.join(tr_prefix, f_name),'w') as fw:\n",
    "    with open(os.path.join(tr_prefix, f_name.replace('suspicious-document','sps_')),'w') as fw:\n",
    "        fw.write(tr_txt)"
   ]
  },
  {
   "cell_type": "code",
   "execution_count": 17,
   "metadata": {
    "collapsed": true
   },
   "outputs": [],
   "source": [
    "from boto.s3.connection import S3Connection\n",
    "from boto.s3.key import Key\n",
    "\n",
    "AWS_KEY = \"\"\n",
    "AWS_SECRET = \"\"\n",
    "\n",
    "conn = S3Connection(AWS_KEY, AWS_SECRET)\n",
    "pb = conn.get_bucket('msan-course-data')\n",
    "\n",
    "k = Key(pb)\n",
    "s3_path = \"distributed-computing/intrinsic-detection\""
   ]
  },
  {
   "cell_type": "code",
   "execution_count": 18,
   "metadata": {
    "collapsed": true
   },
   "outputs": [],
   "source": [
    "local_path=r'C:\\data\\pan-plagiarism-corpus-2011\\pan-plagiarism-corpus-2011\\intrinsic-detection-hive'"
   ]
  },
  {
   "cell_type": "code",
   "execution_count": 1,
   "metadata": {
    "collapsed": false,
    "scrolled": true
   },
   "outputs": [],
   "source": [
    "# upload to S3\n",
    "for f_name in os.listdir(local_path):\n",
    "    local_file_name = os.path.join(local_path,f_name)\n",
    "    file_name_to_use_in_s3 = \"%s/%s\"%(s3_path, f_name)\n",
    "    k.name = file_name_to_use_in_s3\n",
    "    k.set_contents_from_filename(local_file_name)\n",
    "# #     print 'uploaded', f_name\n",
    "print 'upload complete'"
   ]
  }
 ],
 "metadata": {
  "kernelspec": {
   "display_name": "Python 2",
   "language": "python",
   "name": "python2"
  },
  "language_info": {
   "codemirror_mode": {
    "name": "ipython",
    "version": 2
   },
   "file_extension": ".py",
   "mimetype": "text/x-python",
   "name": "python",
   "nbconvert_exporter": "python",
   "pygments_lexer": "ipython2",
   "version": "2.7.10"
  }
 },
 "nbformat": 4,
 "nbformat_minor": 0
}
